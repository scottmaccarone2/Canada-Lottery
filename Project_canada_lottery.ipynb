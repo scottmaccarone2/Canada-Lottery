{
 "cells": [
  {
   "cell_type": "markdown",
   "metadata": {},
   "source": [
    "We want to build an app to help lottery addicts better estimate their chances of winning. There is a team of engineers that will build the app, however they need help creating the logical core of the app and calculate probabilities.\n",
    "\n",
    "For the first version of the app, we focus on the 6/49 lottery and build functions that enable users to answer questions like:\n",
    "\n",
    "- What is the probability of winning the big prize with a single ticket?\n",
    "- What is the probability of winning the big prize if we play 40 different tickets (or any other number)?\n",
    "- What is the probability of having at least five (or four, or three, or two) winning numbers on a single ticket?\n",
    "\n",
    "We consider historical data from the national 6/49 lottery game in Canada. The [data set](https://www.kaggle.com/datascienceai/lottery-dataset) has data for 3,665 drawings dating from 1982 to 2018."
   ]
  },
  {
   "cell_type": "markdown",
   "metadata": {},
   "source": [
    "In this project we will need to calculate probabilities and combinations repeatedly. Therefore, we will write functions that can be reused:\n",
    "\n",
    "- A function that calculates factorials\n",
    "- A function that calculates combinations\n",
    "\n",
    "NOTE: In the 6/49 lottery, six numbers are drawn from a set of 49 numbers that range from 1 to 49. The drawing is done **without replacement**.\n",
    "\n",
    "Recall:\n",
    "\n",
    "- n! = n(n-1)(n-2)...(3)(2)(1)\n",
    "- nCk = n!/(k!(n-k)!)"
   ]
  },
  {
   "cell_type": "code",
   "execution_count": 1,
   "metadata": {},
   "outputs": [],
   "source": [
    "def factorial(n):\n",
    "    fact = 1\n",
    "    i = n\n",
    "    for i in range(1,n+1):\n",
    "        fact *= i\n",
    "    return fact"
   ]
  },
  {
   "cell_type": "code",
   "execution_count": 2,
   "metadata": {},
   "outputs": [
    {
     "data": {
      "text/plain": [
       "120"
      ]
     },
     "execution_count": 2,
     "metadata": {},
     "output_type": "execute_result"
    }
   ],
   "source": [
    "factorial(5)"
   ]
  },
  {
   "cell_type": "code",
   "execution_count": 3,
   "metadata": {},
   "outputs": [
    {
     "data": {
      "text/plain": [
       "3628800"
      ]
     },
     "execution_count": 3,
     "metadata": {},
     "output_type": "execute_result"
    }
   ],
   "source": [
    "factorial(10)"
   ]
  },
  {
   "cell_type": "code",
   "execution_count": 4,
   "metadata": {},
   "outputs": [],
   "source": [
    "def combinations(n,k):\n",
    "    return factorial(n) // (factorial(k)*factorial(n-k))"
   ]
  },
  {
   "cell_type": "code",
   "execution_count": 5,
   "metadata": {},
   "outputs": [
    {
     "data": {
      "text/plain": [
       "252"
      ]
     },
     "execution_count": 5,
     "metadata": {},
     "output_type": "execute_result"
    }
   ],
   "source": [
    "combinations(10,5)"
   ]
  },
  {
   "cell_type": "code",
   "execution_count": 6,
   "metadata": {},
   "outputs": [
    {
     "data": {
      "text/plain": [
       "6435"
      ]
     },
     "execution_count": 6,
     "metadata": {},
     "output_type": "execute_result"
    }
   ],
   "source": [
    "combinations(15,7)"
   ]
  },
  {
   "cell_type": "markdown",
   "metadata": {},
   "source": [
    "In the 6/49 lottery, a player wins the big prize if the six numbers on their ticket matches all the six numbers drawn (even if only one number differs, the player does not win).\n",
    "\n",
    "In the first version of the app, we want players to be able to calculate the probability of winning the big prize with the various numbers they play on a single ticket (for each ticket a player chooses size numbers out of 49).\n",
    "\n",
    "We need to be aware of the following details when writing this function:\n",
    "\n",
    "- Inside the app, the user inputs six different numbers from 1 to 49\n",
    "- \"Under the hood\", the six numbers come as a Python list which will serve as the single input to the function\n",
    "- The engineering team wants the function to print the probability value in a friendly way (so that people uneducated in probability can understand)\n",
    "\n",
    "In the code below, we define our function `oneTicProb(listOfSix)` with an input `listOfSix` because the user will enter six values (in list form). Next we compute the total number of ways we can select 6 numbers from 49 numbers. To obtain probability, we take the reciprocal of `combinations(49,6)`. NOTE: 1 is in the numerator because the values the user enters is just ONE sequence or selection of 6 numbers from 49. We want the probability in percentage form so we multiply by 100. Lastly, we print a message that not only returns the probability, but does so in a way that is easy to understand in lay-terms."
   ]
  },
  {
   "cell_type": "code",
   "execution_count": 7,
   "metadata": {},
   "outputs": [],
   "source": [
    "def oneTicProb(listOfSix):\n",
    "    total = combinations(49,6)\n",
    "    prob = (1 / total) * 100\n",
    "    print(\"There is a {:.8f}% percent chance of winning the big prize \"\n",
    "    \"based on the values {} you entered. In other words, you have a 1 in \" \n",
    "    \"{:,} chance of winning.\".format(prob, listOfSix, total))"
   ]
  },
  {
   "cell_type": "code",
   "execution_count": 8,
   "metadata": {},
   "outputs": [
    {
     "name": "stdout",
     "output_type": "stream",
     "text": [
      "There is a 0.00000715% percent chance of winning the big prize based on the values [4, 22, 34, 35, 40, 41] you entered. In other words, you have a 1 in 13,983,816 chance of winning.\n"
     ]
    }
   ],
   "source": [
    "oneTicProb([4, 22, 34, 35, 40, 41])"
   ]
  },
  {
   "cell_type": "markdown",
   "metadata": {},
   "source": [
    "We now want to read in and examine (determine the number of rows and columns, and check out the first and last several rows) the `lottery.csv` data set:"
   ]
  },
  {
   "cell_type": "code",
   "execution_count": 9,
   "metadata": {},
   "outputs": [],
   "source": [
    "import numpy as np\n",
    "import pandas as pd"
   ]
  },
  {
   "cell_type": "code",
   "execution_count": 10,
   "metadata": {},
   "outputs": [],
   "source": [
    "lottery = pd.read_csv('lottery.csv')"
   ]
  },
  {
   "cell_type": "code",
   "execution_count": 11,
   "metadata": {},
   "outputs": [
    {
     "data": {
      "text/plain": [
       "(3665, 11)"
      ]
     },
     "execution_count": 11,
     "metadata": {},
     "output_type": "execute_result"
    }
   ],
   "source": [
    "lottery.shape"
   ]
  },
  {
   "cell_type": "markdown",
   "metadata": {},
   "source": [
    "There are 11 columns and 3,665 rows:"
   ]
  },
  {
   "cell_type": "code",
   "execution_count": 12,
   "metadata": {},
   "outputs": [
    {
     "data": {
      "text/html": [
       "<div>\n",
       "<style scoped>\n",
       "    .dataframe tbody tr th:only-of-type {\n",
       "        vertical-align: middle;\n",
       "    }\n",
       "\n",
       "    .dataframe tbody tr th {\n",
       "        vertical-align: top;\n",
       "    }\n",
       "\n",
       "    .dataframe thead th {\n",
       "        text-align: right;\n",
       "    }\n",
       "</style>\n",
       "<table border=\"1\" class=\"dataframe\">\n",
       "  <thead>\n",
       "    <tr style=\"text-align: right;\">\n",
       "      <th></th>\n",
       "      <th>PRODUCT</th>\n",
       "      <th>DRAW NUMBER</th>\n",
       "      <th>SEQUENCE NUMBER</th>\n",
       "      <th>DRAW DATE</th>\n",
       "      <th>NUMBER DRAWN 1</th>\n",
       "      <th>NUMBER DRAWN 2</th>\n",
       "      <th>NUMBER DRAWN 3</th>\n",
       "      <th>NUMBER DRAWN 4</th>\n",
       "      <th>NUMBER DRAWN 5</th>\n",
       "      <th>NUMBER DRAWN 6</th>\n",
       "      <th>BONUS NUMBER</th>\n",
       "    </tr>\n",
       "  </thead>\n",
       "  <tbody>\n",
       "    <tr>\n",
       "      <th>0</th>\n",
       "      <td>649</td>\n",
       "      <td>1</td>\n",
       "      <td>0</td>\n",
       "      <td>6/12/1982</td>\n",
       "      <td>3</td>\n",
       "      <td>11</td>\n",
       "      <td>12</td>\n",
       "      <td>14</td>\n",
       "      <td>41</td>\n",
       "      <td>43</td>\n",
       "      <td>13</td>\n",
       "    </tr>\n",
       "    <tr>\n",
       "      <th>1</th>\n",
       "      <td>649</td>\n",
       "      <td>2</td>\n",
       "      <td>0</td>\n",
       "      <td>6/19/1982</td>\n",
       "      <td>8</td>\n",
       "      <td>33</td>\n",
       "      <td>36</td>\n",
       "      <td>37</td>\n",
       "      <td>39</td>\n",
       "      <td>41</td>\n",
       "      <td>9</td>\n",
       "    </tr>\n",
       "    <tr>\n",
       "      <th>2</th>\n",
       "      <td>649</td>\n",
       "      <td>3</td>\n",
       "      <td>0</td>\n",
       "      <td>6/26/1982</td>\n",
       "      <td>1</td>\n",
       "      <td>6</td>\n",
       "      <td>23</td>\n",
       "      <td>24</td>\n",
       "      <td>27</td>\n",
       "      <td>39</td>\n",
       "      <td>34</td>\n",
       "    </tr>\n",
       "    <tr>\n",
       "      <th>3</th>\n",
       "      <td>649</td>\n",
       "      <td>4</td>\n",
       "      <td>0</td>\n",
       "      <td>7/3/1982</td>\n",
       "      <td>3</td>\n",
       "      <td>9</td>\n",
       "      <td>10</td>\n",
       "      <td>13</td>\n",
       "      <td>20</td>\n",
       "      <td>43</td>\n",
       "      <td>34</td>\n",
       "    </tr>\n",
       "    <tr>\n",
       "      <th>4</th>\n",
       "      <td>649</td>\n",
       "      <td>5</td>\n",
       "      <td>0</td>\n",
       "      <td>7/10/1982</td>\n",
       "      <td>5</td>\n",
       "      <td>14</td>\n",
       "      <td>21</td>\n",
       "      <td>31</td>\n",
       "      <td>34</td>\n",
       "      <td>47</td>\n",
       "      <td>45</td>\n",
       "    </tr>\n",
       "  </tbody>\n",
       "</table>\n",
       "</div>"
      ],
      "text/plain": [
       "   PRODUCT  DRAW NUMBER  SEQUENCE NUMBER  DRAW DATE  NUMBER DRAWN 1  \\\n",
       "0      649            1                0  6/12/1982               3   \n",
       "1      649            2                0  6/19/1982               8   \n",
       "2      649            3                0  6/26/1982               1   \n",
       "3      649            4                0   7/3/1982               3   \n",
       "4      649            5                0  7/10/1982               5   \n",
       "\n",
       "   NUMBER DRAWN 2  NUMBER DRAWN 3  NUMBER DRAWN 4  NUMBER DRAWN 5  \\\n",
       "0              11              12              14              41   \n",
       "1              33              36              37              39   \n",
       "2               6              23              24              27   \n",
       "3               9              10              13              20   \n",
       "4              14              21              31              34   \n",
       "\n",
       "   NUMBER DRAWN 6  BONUS NUMBER  \n",
       "0              43            13  \n",
       "1              41             9  \n",
       "2              39            34  \n",
       "3              43            34  \n",
       "4              47            45  "
      ]
     },
     "execution_count": 12,
     "metadata": {},
     "output_type": "execute_result"
    }
   ],
   "source": [
    "lottery.head(5)"
   ]
  },
  {
   "cell_type": "code",
   "execution_count": 13,
   "metadata": {},
   "outputs": [
    {
     "data": {
      "text/html": [
       "<div>\n",
       "<style scoped>\n",
       "    .dataframe tbody tr th:only-of-type {\n",
       "        vertical-align: middle;\n",
       "    }\n",
       "\n",
       "    .dataframe tbody tr th {\n",
       "        vertical-align: top;\n",
       "    }\n",
       "\n",
       "    .dataframe thead th {\n",
       "        text-align: right;\n",
       "    }\n",
       "</style>\n",
       "<table border=\"1\" class=\"dataframe\">\n",
       "  <thead>\n",
       "    <tr style=\"text-align: right;\">\n",
       "      <th></th>\n",
       "      <th>PRODUCT</th>\n",
       "      <th>DRAW NUMBER</th>\n",
       "      <th>SEQUENCE NUMBER</th>\n",
       "      <th>DRAW DATE</th>\n",
       "      <th>NUMBER DRAWN 1</th>\n",
       "      <th>NUMBER DRAWN 2</th>\n",
       "      <th>NUMBER DRAWN 3</th>\n",
       "      <th>NUMBER DRAWN 4</th>\n",
       "      <th>NUMBER DRAWN 5</th>\n",
       "      <th>NUMBER DRAWN 6</th>\n",
       "      <th>BONUS NUMBER</th>\n",
       "    </tr>\n",
       "  </thead>\n",
       "  <tbody>\n",
       "    <tr>\n",
       "      <th>3660</th>\n",
       "      <td>649</td>\n",
       "      <td>3587</td>\n",
       "      <td>0</td>\n",
       "      <td>6/6/2018</td>\n",
       "      <td>10</td>\n",
       "      <td>15</td>\n",
       "      <td>23</td>\n",
       "      <td>38</td>\n",
       "      <td>40</td>\n",
       "      <td>41</td>\n",
       "      <td>35</td>\n",
       "    </tr>\n",
       "    <tr>\n",
       "      <th>3661</th>\n",
       "      <td>649</td>\n",
       "      <td>3588</td>\n",
       "      <td>0</td>\n",
       "      <td>6/9/2018</td>\n",
       "      <td>19</td>\n",
       "      <td>25</td>\n",
       "      <td>31</td>\n",
       "      <td>36</td>\n",
       "      <td>46</td>\n",
       "      <td>47</td>\n",
       "      <td>26</td>\n",
       "    </tr>\n",
       "    <tr>\n",
       "      <th>3662</th>\n",
       "      <td>649</td>\n",
       "      <td>3589</td>\n",
       "      <td>0</td>\n",
       "      <td>6/13/2018</td>\n",
       "      <td>6</td>\n",
       "      <td>22</td>\n",
       "      <td>24</td>\n",
       "      <td>31</td>\n",
       "      <td>32</td>\n",
       "      <td>34</td>\n",
       "      <td>16</td>\n",
       "    </tr>\n",
       "    <tr>\n",
       "      <th>3663</th>\n",
       "      <td>649</td>\n",
       "      <td>3590</td>\n",
       "      <td>0</td>\n",
       "      <td>6/16/2018</td>\n",
       "      <td>2</td>\n",
       "      <td>15</td>\n",
       "      <td>21</td>\n",
       "      <td>31</td>\n",
       "      <td>38</td>\n",
       "      <td>49</td>\n",
       "      <td>8</td>\n",
       "    </tr>\n",
       "    <tr>\n",
       "      <th>3664</th>\n",
       "      <td>649</td>\n",
       "      <td>3591</td>\n",
       "      <td>0</td>\n",
       "      <td>6/20/2018</td>\n",
       "      <td>14</td>\n",
       "      <td>24</td>\n",
       "      <td>31</td>\n",
       "      <td>35</td>\n",
       "      <td>37</td>\n",
       "      <td>48</td>\n",
       "      <td>17</td>\n",
       "    </tr>\n",
       "  </tbody>\n",
       "</table>\n",
       "</div>"
      ],
      "text/plain": [
       "      PRODUCT  DRAW NUMBER  SEQUENCE NUMBER  DRAW DATE  NUMBER DRAWN 1  \\\n",
       "3660      649         3587                0   6/6/2018              10   \n",
       "3661      649         3588                0   6/9/2018              19   \n",
       "3662      649         3589                0  6/13/2018               6   \n",
       "3663      649         3590                0  6/16/2018               2   \n",
       "3664      649         3591                0  6/20/2018              14   \n",
       "\n",
       "      NUMBER DRAWN 2  NUMBER DRAWN 3  NUMBER DRAWN 4  NUMBER DRAWN 5  \\\n",
       "3660              15              23              38              40   \n",
       "3661              25              31              36              46   \n",
       "3662              22              24              31              32   \n",
       "3663              15              21              31              38   \n",
       "3664              24              31              35              37   \n",
       "\n",
       "      NUMBER DRAWN 6  BONUS NUMBER  \n",
       "3660              41            35  \n",
       "3661              47            26  \n",
       "3662              34            16  \n",
       "3663              49             8  \n",
       "3664              48            17  "
      ]
     },
     "execution_count": 13,
     "metadata": {},
     "output_type": "execute_result"
    }
   ],
   "source": [
    "lottery.tail(5)"
   ]
  },
  {
   "cell_type": "markdown",
   "metadata": {},
   "source": [
    "NOTE: It seems that the `PRODUCT` and `SEQUENCE NUMBER` columns are not helpful. The entry for every row is either 649 or 0, respectively. We also note that while there are 3,665 rows, there are 3,591 draw numbers. However, based on the `DRAW DATE` column, we see that there are dates that are not recorded in this dataset."
   ]
  },
  {
   "cell_type": "markdown",
   "metadata": {},
   "source": [
    "At this point, we want to use this historical data. We want to write a function enabling users to compare their ticket against the historical lottery data and determine whether they would have ever won by now. We must be aware of the following details:\n",
    "\n",
    "- Inside the app, the user inputs six different numbers from 1 to 49\n",
    "- The six numbers will come as a Python list and serve as an input to the function\n",
    "- The function prints:\n",
    "    - the number of times the combination selected occurred in the data set\n",
    "    - the probability of winning the big prize in the next drawing with that combination"
   ]
  },
  {
   "cell_type": "code",
   "execution_count": 14,
   "metadata": {
    "scrolled": true
   },
   "outputs": [
    {
     "data": {
      "text/html": [
       "<div>\n",
       "<style scoped>\n",
       "    .dataframe tbody tr th:only-of-type {\n",
       "        vertical-align: middle;\n",
       "    }\n",
       "\n",
       "    .dataframe tbody tr th {\n",
       "        vertical-align: top;\n",
       "    }\n",
       "\n",
       "    .dataframe thead th {\n",
       "        text-align: right;\n",
       "    }\n",
       "</style>\n",
       "<table border=\"1\" class=\"dataframe\">\n",
       "  <thead>\n",
       "    <tr style=\"text-align: right;\">\n",
       "      <th></th>\n",
       "      <th>NUMBER DRAWN 1</th>\n",
       "      <th>NUMBER DRAWN 2</th>\n",
       "      <th>NUMBER DRAWN 3</th>\n",
       "      <th>NUMBER DRAWN 4</th>\n",
       "      <th>NUMBER DRAWN 5</th>\n",
       "      <th>NUMBER DRAWN 6</th>\n",
       "    </tr>\n",
       "  </thead>\n",
       "  <tbody>\n",
       "    <tr>\n",
       "      <th>0</th>\n",
       "      <td>3</td>\n",
       "      <td>11</td>\n",
       "      <td>12</td>\n",
       "      <td>14</td>\n",
       "      <td>41</td>\n",
       "      <td>43</td>\n",
       "    </tr>\n",
       "    <tr>\n",
       "      <th>1</th>\n",
       "      <td>8</td>\n",
       "      <td>33</td>\n",
       "      <td>36</td>\n",
       "      <td>37</td>\n",
       "      <td>39</td>\n",
       "      <td>41</td>\n",
       "    </tr>\n",
       "    <tr>\n",
       "      <th>2</th>\n",
       "      <td>1</td>\n",
       "      <td>6</td>\n",
       "      <td>23</td>\n",
       "      <td>24</td>\n",
       "      <td>27</td>\n",
       "      <td>39</td>\n",
       "    </tr>\n",
       "    <tr>\n",
       "      <th>3</th>\n",
       "      <td>3</td>\n",
       "      <td>9</td>\n",
       "      <td>10</td>\n",
       "      <td>13</td>\n",
       "      <td>20</td>\n",
       "      <td>43</td>\n",
       "    </tr>\n",
       "    <tr>\n",
       "      <th>4</th>\n",
       "      <td>5</td>\n",
       "      <td>14</td>\n",
       "      <td>21</td>\n",
       "      <td>31</td>\n",
       "      <td>34</td>\n",
       "      <td>47</td>\n",
       "    </tr>\n",
       "  </tbody>\n",
       "</table>\n",
       "</div>"
      ],
      "text/plain": [
       "   NUMBER DRAWN 1  NUMBER DRAWN 2  NUMBER DRAWN 3  NUMBER DRAWN 4  \\\n",
       "0               3              11              12              14   \n",
       "1               8              33              36              37   \n",
       "2               1               6              23              24   \n",
       "3               3               9              10              13   \n",
       "4               5              14              21              31   \n",
       "\n",
       "   NUMBER DRAWN 5  NUMBER DRAWN 6  \n",
       "0              41              43  \n",
       "1              39              41  \n",
       "2              27              39  \n",
       "3              20              43  \n",
       "4              34              47  "
      ]
     },
     "execution_count": 14,
     "metadata": {},
     "output_type": "execute_result"
    }
   ],
   "source": [
    "lottery.iloc[:, 4:10].head()"
   ]
  },
  {
   "cell_type": "code",
   "execution_count": 15,
   "metadata": {},
   "outputs": [
    {
     "data": {
      "text/plain": [
       "3"
      ]
     },
     "execution_count": 15,
     "metadata": {},
     "output_type": "execute_result"
    }
   ],
   "source": [
    "lottery.iloc[0, 4]"
   ]
  },
  {
   "cell_type": "code",
   "execution_count": 16,
   "metadata": {},
   "outputs": [
    {
     "data": {
      "text/plain": [
       "numpy.int64"
      ]
     },
     "execution_count": 16,
     "metadata": {},
     "output_type": "execute_result"
    }
   ],
   "source": [
    "type(lottery.iloc[0,4])"
   ]
  },
  {
   "cell_type": "code",
   "execution_count": 17,
   "metadata": {},
   "outputs": [],
   "source": [
    "# I have a hard time writing functions that will be applied to DataFrames\n",
    "# This is a very simple function, yet I struggled quite a bit - probably\n",
    "# about 2 hours. Get better at this\n",
    "\n",
    "def extractNumbers(row):\n",
    "    row = row[4:10]\n",
    "    row = set(row.values)\n",
    "    return row"
   ]
  },
  {
   "cell_type": "code",
   "execution_count": 18,
   "metadata": {},
   "outputs": [
    {
     "data": {
      "text/plain": [
       "0    {3, 41, 11, 12, 43, 14}\n",
       "1    {33, 36, 37, 39, 8, 41}\n",
       "2     {1, 6, 39, 23, 24, 27}\n",
       "3     {3, 9, 10, 43, 13, 20}\n",
       "4    {34, 5, 14, 47, 21, 31}\n",
       "dtype: object"
      ]
     },
     "execution_count": 18,
     "metadata": {},
     "output_type": "execute_result"
    }
   ],
   "source": [
    "winningNumbers = lottery.apply(extractNumbers, axis=1)\n",
    "winningNumbers.head()"
   ]
  },
  {
   "cell_type": "markdown",
   "metadata": {},
   "source": [
    "We now have extracted all the winning numbers from each recorded draw. We now want to write a function that takes in two inputs: a Python list containing the user numbers, and a pandas Series containing sets with the winning numbers (the Series above containig the winning numbers). We then want to:\n",
    "\n",
    "- Convert the user numbers list as a set using the `set()` function\n",
    "- Compare the set against the pandas Series that contains the sets with the winning numbers to find the number of matches - a Series of Boolean values will be returned as a result of the comparison\n",
    "- Print information about the number of times the combination inputted by the user occurred in the past\n",
    "- Print information (in an easy-to-understand way) about the probability of winning the big prize in the next drawing with that combination"
   ]
  },
  {
   "cell_type": "code",
   "execution_count": 19,
   "metadata": {},
   "outputs": [],
   "source": [
    "# I struggled with this part of the problem as well. Specifically, I was\n",
    "# using a `for` loop to check whether the set matched sets within the\n",
    "# Series, which is of course incorrect because I should be using \n",
    "# vectorized operations\n",
    "\n",
    "def histOccurrence(userList, histSeries):\n",
    "    userSet = set(userList)\n",
    "    print(\"User Set: \", userSet)\n",
    "    win = userSet == histSeries\n",
    "    winCount = win.sum()\n",
    "    print(\"Win Count: \", winCount)\n",
    "    total = combinations(49,6)\n",
    "    winProb = (1 / total) * 100\n",
    "    \n",
    "    if winCount == 0:\n",
    "        print(\"The combination {} has never occurred in the past. This \"\n",
    "             \"does not mean the combination {} is more or less likely \"\n",
    "             \"to occur now. Therefore, you still have a {:.8f}% chance \"\n",
    "             \"of winning the big prize. In other words, you have a 1 in \"\n",
    "             \"{:,} chance of winning the big prize\".format(userList, userList, winProb, total))\n",
    "        \n",
    "    else:\n",
    "        print(\"The combination {} has occurred {} time(s) in the past. This \"\n",
    "             \"does not mean the combination {} is more or less likely \"\n",
    "             \"to occur now. Therefore, you still have a {:.8f}% chance \"\n",
    "             \"of winning the big prize. In other words, you have a 1 in \"\n",
    "             \"{:,} chance of winning the big prize\".format(userList, winCount, userList, winProb, total))"
   ]
  },
  {
   "cell_type": "code",
   "execution_count": 20,
   "metadata": {},
   "outputs": [],
   "source": [
    "myNums = [3, 41, 11, 12, 43, 14]"
   ]
  },
  {
   "cell_type": "code",
   "execution_count": 21,
   "metadata": {},
   "outputs": [
    {
     "name": "stdout",
     "output_type": "stream",
     "text": [
      "User Set:  {3, 41, 11, 12, 43, 14}\n",
      "Win Count:  1\n",
      "The combination [3, 41, 11, 12, 43, 14] has occurred 1 time(s) in the past. This does not mean the combination [3, 41, 11, 12, 43, 14] is more or less likely to occur now. Therefore, you still have a 0.00000715% chance of winning the big prize. In other words, you have a 1 in 13,983,816 chance of winning the big prize\n"
     ]
    }
   ],
   "source": [
    "histOccurrence(myNums, winningNumbers)"
   ]
  },
  {
   "cell_type": "markdown",
   "metadata": {},
   "source": [
    "Often, lottery (or gambling) addicts play more than one ticket on a single drawing, thinking that this might increase their chances of winning. We will write a function that will allow users to calculate the chances of winning any number of different tickets. We need to be aware of the following details:\n",
    "\n",
    "- The user will input the number of *different* tickets they want to play (without inputting the specific combinations they intend to play)\n",
    "- The function will see an integer between 1 and 13,983,816 (the maximum number of different tickets)\n",
    "- The function should print information about the probability of winning the big prize depending on the number of different tickets played"
   ]
  },
  {
   "cell_type": "code",
   "execution_count": 26,
   "metadata": {},
   "outputs": [],
   "source": [
    "def multiTixProb(n):\n",
    "    totalCombos = combinations(49,6)\n",
    "    prob = n / totalCombos\n",
    "    probPercent = prob * 100\n",
    "    reducedChance = round(totalCombos / n)\n",
    "    print(\"You have a {:8f}% chance of winning the big prize by playing \"\n",
    "         \"{} ticket(s). In other words, you have a 1 in {:,} \"\n",
    "         \"chance of winning\".format(probPercent, n, reducedChance))"
   ]
  },
  {
   "cell_type": "code",
   "execution_count": 27,
   "metadata": {},
   "outputs": [
    {
     "name": "stdout",
     "output_type": "stream",
     "text": [
      "You have a 0.000007% chance of winning the big prize by playing 1 ticket(s). In other words, you have a 1 in 13,983,816 chance of winning\n"
     ]
    }
   ],
   "source": [
    "multiTixProb(1)"
   ]
  },
  {
   "cell_type": "code",
   "execution_count": 28,
   "metadata": {},
   "outputs": [
    {
     "name": "stdout",
     "output_type": "stream",
     "text": [
      "You have a 0.000072% chance of winning the big prize by playing 10 ticket(s). In other words, you have a 1 in 1,398,382 chance of winning\n"
     ]
    }
   ],
   "source": [
    "multiTixProb(10)"
   ]
  },
  {
   "cell_type": "code",
   "execution_count": 29,
   "metadata": {},
   "outputs": [
    {
     "name": "stdout",
     "output_type": "stream",
     "text": [
      "You have a 0.000715% chance of winning the big prize by playing 100 ticket(s). In other words, you have a 1 in 139,838 chance of winning\n"
     ]
    }
   ],
   "source": [
    "multiTixProb(100)"
   ]
  },
  {
   "cell_type": "code",
   "execution_count": 30,
   "metadata": {},
   "outputs": [
    {
     "name": "stdout",
     "output_type": "stream",
     "text": [
      "You have a 0.007151% chance of winning the big prize by playing 1000 ticket(s). In other words, you have a 1 in 13,984 chance of winning\n"
     ]
    }
   ],
   "source": [
    "multiTixProb(1000)"
   ]
  },
  {
   "cell_type": "code",
   "execution_count": 31,
   "metadata": {},
   "outputs": [
    {
     "name": "stdout",
     "output_type": "stream",
     "text": [
      "You have a 0.715112% chance of winning the big prize by playing 100000 ticket(s). In other words, you have a 1 in 140 chance of winning\n"
     ]
    }
   ],
   "source": [
    "multiTixProb(100000)"
   ]
  },
  {
   "cell_type": "markdown",
   "metadata": {},
   "source": [
    "We now want to write a function that allows users to calculate probabilities for two, three, four, or five winning numbers. In most 6/49 lotteries there are smaller prizes if a player's ticket matches two, three, four, or five of the six numbers drawn. Therefore, users might be interested in knowing the probability of having two, three, four, or five winning numbers. Here are some details to be aware of:\n",
    "\n",
    "- Inside the app, the user inputs:\n",
    "    - six different number from 1 to 49\n",
    "    - an integer between 2 and 5 the represents the number of winning numbers expected\n",
    "- The function prints information about the probability of having the inputted number of winning numbers"
   ]
  },
  {
   "cell_type": "markdown",
   "metadata": {},
   "source": [
    "Let's consider one case: calculate the probability for having five winning numbers. For example, suppose a player chose the numbers {1,2,3,4,5,6}. Out of these six numbers, we can form six 5-number combinations:\n",
    "\n",
    "- {1,2,3,4,5}\n",
    "- {1,2,3,4,6}\n",
    "- {1,2,3,5,6}\n",
    "- {1,2,4,5,6}\n",
    "- {1,3,4,5,6}\n",
    "- {2,3,4,5,6}\n",
    "\n",
    "Also note that \"6 choose 5\" equals:\n",
    "\n",
    "`6! / (5!(6-5)!) = 6!/5! = 6`\n",
    "\n",
    "For each of the above 5-number combinations, there are 44 possible successful outcomes in a lottery drawing. For example, the 5-number combination {1,2,3,4,5} would have the following 44 possible winning combinations:\n",
    "\n",
    "- {1,2,3,4,5,**6**}\n",
    "- {1,2,3,4,5,**7**}\n",
    "- ...\n",
    "- {1,2,3,4,5,**47**}\n",
    "- {1,2,3,4,5,**48**}\n",
    "- {1,2,3,4,5,**49**}\n",
    "\n",
    "We would have 44 similar winning combinations for the rest of the five 5-number combos. Thus, in total, we would have `6 x 44 = 264` many possible successful outcomes out of a total of 13,983,816 outcomes. Thus, the probability of having five winning number for a single lottery ticket is:\n",
    "\n",
    "`264 / \"49 choose 6\" = 0.0000189`"
   ]
  },
  {
   "cell_type": "markdown",
   "metadata": {},
   "source": [
    "Now consider the case of 4-winning numbers. Then:"
   ]
  },
  {
   "cell_type": "code",
   "execution_count": 33,
   "metadata": {},
   "outputs": [
    {
     "data": {
      "text/plain": [
       "15"
      ]
     },
     "execution_count": 33,
     "metadata": {},
     "output_type": "execute_result"
    }
   ],
   "source": [
    "combinations(6,4)"
   ]
  },
  {
   "cell_type": "markdown",
   "metadata": {},
   "source": [
    "There are 15 possible 4-number combos that could win a small prize. Consider the 4-number combo {1,2,3,4}. The next digit can be any number between 5 and 49 (45 possible values). The sixth digit can be any value except 1-4 and the fifth digit select, meaning we have 44 possible values. Thus the total number of winning outcomes is `(44)(45) = 1,980`. And since we have 15 different 4-number combinations, we therefore have `15 x 1980 = 29,700` total possible successful outcomes. The probability of winning becomes: \n",
    "\n",
    "`29,700 / \"49 choose 6\" = 0.002124`"
   ]
  },
  {
   "cell_type": "markdown",
   "metadata": {},
   "source": [
    "Now consider the case of 3-winning numbers. Then:"
   ]
  },
  {
   "cell_type": "code",
   "execution_count": 36,
   "metadata": {},
   "outputs": [
    {
     "data": {
      "text/plain": [
       "20"
      ]
     },
     "execution_count": 36,
     "metadata": {},
     "output_type": "execute_result"
    }
   ],
   "source": [
    "combinations(6,3)"
   ]
  },
  {
   "cell_type": "markdown",
   "metadata": {},
   "source": [
    "There are 20 possible 3-number combos that could win a small prize. Therefore, for a given 3-number combo such as {1,2,3}, there are 46 possible number choices for the 4th number; 45 possible choices for the 5th number, and 44 possible choices for the 6th number. Thus, there are:\n",
    "`(46)(45)(44) = 91,080` possible 6-number combos that would win a small prize. There are 20 total 3-number winning combos, so we have a total of:\n",
    "`20 x 91,080 = 1,821,600` total number of ways of winning a 3-number small prize. The probability of winning such a prize is:\n",
    "\n",
    "`1,821,600 / \"49 choose 6\" = 0.130265`"
   ]
  },
  {
   "cell_type": "markdown",
   "metadata": {},
   "source": [
    "Lastly, for the case of 2-winning numbers, there are:"
   ]
  },
  {
   "cell_type": "code",
   "execution_count": 37,
   "metadata": {},
   "outputs": [
    {
     "data": {
      "text/plain": [
       "15"
      ]
     },
     "execution_count": 37,
     "metadata": {},
     "output_type": "execute_result"
    }
   ],
   "source": [
    "combinations(6,2)"
   ]
  },
  {
   "cell_type": "markdown",
   "metadata": {},
   "source": [
    "possible winning combos. There are `(47)(46)(45)(44) = 4,280,760` possible values for the remaining 4 numbers in the set. Thus, there are a total of `4,280,760 x 15 = 64,211,400` ways of winning a 2-number prize.\n",
    "\n",
    "However:"
   ]
  },
  {
   "cell_type": "code",
   "execution_count": 38,
   "metadata": {},
   "outputs": [
    {
     "data": {
      "text/plain": [
       "13983816"
      ]
     },
     "execution_count": 38,
     "metadata": {},
     "output_type": "execute_result"
    }
   ],
   "source": [
    "combinations(49,6)"
   ]
  },
  {
   "cell_type": "markdown",
   "metadata": {},
   "source": [
    "We see that there are 13,983,816 ways to choose 6 numbers from 49 numbers. Thus, we are *guaranteed* to win a 2-number prize because there are more ways to win a two number prize than there are possible combinations!\n",
    "\n",
    "Now we need to generalize these observations and write the required function."
   ]
  },
  {
   "cell_type": "code",
   "execution_count": 49,
   "metadata": {},
   "outputs": [],
   "source": [
    "# To do this without if statments is tricky...\n",
    "\n",
    "def probLess6(n):\n",
    "    ticketCombos = combinations(6,n)\n",
    "    remainingCombos = combinations(49-n, 6-n)\n",
    "    \n",
    "    successOutcomes = ticketCombos * remainingCombos\n",
    "    totalOutcomes = combinations(49,6)\n",
    "    \n",
    "    prob = successOutcomes / totalOutcomes\n",
    "    probPercent = prob * 100\n",
    "    \n",
    "    reducedChances = totalOutcomes // successOutcomes\n",
    "    \n",
    "    print(\"The chance of winning a {}-number prize is {:5f}%. In other words \"\n",
    "          \"you have a 1 in {} chance of winning a {}-number prize\"\n",
    "          .format(n, probPercent, reducedChances, n))"
   ]
  },
  {
   "cell_type": "code",
   "execution_count": 50,
   "metadata": {},
   "outputs": [
    {
     "name": "stdout",
     "output_type": "stream",
     "text": [
      "The chance of winning a 2-number prize is 19.132653%. In other words you have a 1 in 5 chance of winning a 2-number prize\n",
      "-------------------------\n",
      "The chance of winning a 3-number prize is 2.171081%. In other words you have a 1 in 46 chance of winning a 3-number prize\n",
      "-------------------------\n",
      "The chance of winning a 4-number prize is 0.106194%. In other words you have a 1 in 941 chance of winning a 4-number prize\n",
      "-------------------------\n",
      "The chance of winning a 5-number prize is 0.001888%. In other words you have a 1 in 52969 chance of winning a 5-number prize\n",
      "-------------------------\n"
     ]
    }
   ],
   "source": [
    "for num in [2,3,4,5]:\n",
    "    probLess6(num)\n",
    "    print(\"-------------------------\")"
   ]
  },
  {
   "cell_type": "code",
   "execution_count": 54,
   "metadata": {},
   "outputs": [
    {
     "name": "stdout",
     "output_type": "stream",
     "text": [
      "15\n",
      "178365\n",
      "2675475\n"
     ]
    }
   ],
   "source": [
    "x = combinations(6,2)\n",
    "y = combinations(49-2, 6-2)\n",
    "print(x)\n",
    "print(y)\n",
    "print(x*y)"
   ]
  },
  {
   "cell_type": "markdown",
   "metadata": {},
   "source": [
    "I must have made a mistake somewhere because these values above (coming from the solution of Dataquest) does NOT match my intuitive understanding of the problem!"
   ]
  },
  {
   "cell_type": "code",
   "execution_count": 57,
   "metadata": {},
   "outputs": [
    {
     "name": "stdout",
     "output_type": "stream",
     "text": [
      "13,983,816\n"
     ]
    }
   ],
   "source": [
    "totalPossible = combinations(49,6)\n",
    "print(\"{:,}\".format(totalPossible))"
   ]
  },
  {
   "cell_type": "code",
   "execution_count": 58,
   "metadata": {},
   "outputs": [
    {
     "name": "stdout",
     "output_type": "stream",
     "text": [
      "15\n",
      "990\n",
      "14850\n"
     ]
    }
   ],
   "source": [
    "x = combinations(6,4)\n",
    "y = combinations(49-4, 6-4)\n",
    "print(x)\n",
    "print(y)\n",
    "print(x*y)"
   ]
  },
  {
   "cell_type": "markdown",
   "metadata": {},
   "source": [
    "The reason I got this wrong is because I forgot to divide out by the redundancies! For example, take the case of 4-number winning combinations. We still have 15 possible 4-number winning combos:\n",
    "`6 choose 4 = 6! / (4!(6-4)!) = 6! / ((4!)(2!)) = (6)(5) / 2 = 15`\n",
    "\n",
    "For each 4-number combo, say {1,2,3,4}, there are `49-4 = 45` possible numbers for the 5th digit, and then `49-5 = 44` possible numbers for the 6th digit. HOWEVER, there are redundancies! For example: \n",
    "`{1,2,3,4,10,6} = {1,2,3,4,6,10}`\n",
    "\n",
    "Thus, we must divide out by the total number of redundancies. The number of redundancies, in this case is only 2! = 2 because there are two positions to be filled.\n",
    "\n",
    "In the case of 3-number winning combinations, the number of redundancies will be 3! = 6; and in the case of 2-number winning combinations there will be 4! = 24 redundancies."
   ]
  },
  {
   "cell_type": "code",
   "execution_count": 63,
   "metadata": {},
   "outputs": [],
   "source": [
    "def prob_less_6(n):\n",
    "    numNCombos = combinations(6,n)\n",
    "    numBranches = combinations(49-n, 6-n)\n",
    "    possibleSuccesses = numNCombos*numBranches\n",
    "    totalOutcomes = combinations(49, 6)\n",
    "    prob = (possibleSuccesses / totalOutcomes) * 100\n",
    "    reducedChances = totalOutcomes // possibleSuccesses\n",
    "    print(\"You have a {:8f}% chance of winning with a {}-number \"\n",
    "          \"combination. In other words, you have a 1 in {} chance of \"\n",
    "          \"winning with a {}-number combination.\"\n",
    "          .format(prob, n, reducedChances, n))"
   ]
  },
  {
   "cell_type": "code",
   "execution_count": 64,
   "metadata": {},
   "outputs": [
    {
     "name": "stdout",
     "output_type": "stream",
     "text": [
      "You have a 19.132653% chance of winning with a 2-number combination. In other words, you have a 1 in 5 chance of winning with a 2-number combination.\n",
      "------------------\n",
      "You have a 2.171081% chance of winning with a 3-number combination. In other words, you have a 1 in 46 chance of winning with a 3-number combination.\n",
      "------------------\n",
      "You have a 0.106194% chance of winning with a 4-number combination. In other words, you have a 1 in 941 chance of winning with a 4-number combination.\n",
      "------------------\n",
      "You have a 0.001888% chance of winning with a 5-number combination. In other words, you have a 1 in 52969 chance of winning with a 5-number combination.\n",
      "------------------\n"
     ]
    }
   ],
   "source": [
    "for num in [2,3,4,5]:\n",
    "    prob_less_6(num)\n",
    "    print('------------------')"
   ]
  },
  {
   "cell_type": "markdown",
   "metadata": {},
   "source": [
    "We may wish to consider other features for a second version of this app:\n",
    "\n",
    "- Add in some helpful or funny analogies like \"You are 100 times more likely to be the victim of a shark attack than winning this lottery game\"\n",
    "- Combine the `oneTicProb()` and `histOccurrence()` functions to output information on probability and historical occurence at the same time."
   ]
  },
  {
   "cell_type": "code",
   "execution_count": null,
   "metadata": {},
   "outputs": [],
   "source": []
  }
 ],
 "metadata": {
  "kernelspec": {
   "display_name": "Python 3",
   "language": "python",
   "name": "python3"
  },
  "language_info": {
   "codemirror_mode": {
    "name": "ipython",
    "version": 3
   },
   "file_extension": ".py",
   "mimetype": "text/x-python",
   "name": "python",
   "nbconvert_exporter": "python",
   "pygments_lexer": "ipython3",
   "version": "3.7.3"
  }
 },
 "nbformat": 4,
 "nbformat_minor": 2
}
